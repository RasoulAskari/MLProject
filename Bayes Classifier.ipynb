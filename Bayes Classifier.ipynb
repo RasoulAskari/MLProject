{
 "cells": [
  {
   "cell_type": "markdown",
   "id": "f68003fe-be4f-42e2-a836-8bb9dbf800bf",
   "metadata": {},
   "source": [
    "## Imports"
   ]
  },
  {
   "cell_type": "code",
   "execution_count": 35,
   "id": "459e09bd-9a22-4ca9-98db-a45d7d0f10c1",
   "metadata": {},
   "outputs": [],
   "source": [
    "from os import walk\n",
    "from os.path import join\n",
    "import pandas as pd\n",
    "import matplotlib.pyplot as plt\n",
    "\n",
    "import nltk\n",
    "from nltk.stem import PorterStemmer\n",
    "from nltk.corpus import stopwords\n",
    "from nltk.tokenize import word_tokenize\n",
    "from bs4 import BeautifulSoup\n"
   ]
  },
  {
   "cell_type": "markdown",
   "id": "bccbb8ae-1b0e-4333-83e3-9d6c8cf7f3c1",
   "metadata": {},
   "source": [
    "# Constant"
   ]
  },
  {
   "cell_type": "code",
   "execution_count": 2,
   "id": "20141395-9ffb-411e-93fb-894319a8caf7",
   "metadata": {},
   "outputs": [],
   "source": [
    "SPAM_1_PATH = './SpamData/01_Processing/spam_assassin_corpus/spam_1'\n",
    "SPAM_2_PATH = './SpamData/01_Processing/spam_assassin_corpus/spam_2/'\n",
    "\n",
    "ESAY_NONSPAM_1_PATH = './SpamData/01_Processing/spam_assassin_corpus/easy_ham_1/'\n",
    "ESAY_NONSPAM_2_PATH = './SpamData/01_Processing/spam_assassin_corpus/easy_ham_2/'\n",
    "DATA_JSON_FILE = './SpamData/01_Processing/email_text_data.json'"
   ]
  },
  {
   "cell_type": "markdown",
   "id": "c255195b-94df-4f66-bad2-0f8c078a5f72",
   "metadata": {},
   "source": [
    "# Contents"
   ]
  },
  {
   "cell_type": "code",
   "execution_count": 3,
   "id": "cfd29db7-6a84-4773-97d7-70ebdefbc4a7",
   "metadata": {},
   "outputs": [
    {
     "name": "stdout",
     "output_type": "stream",
     "text": [
      "From exmh-workers-admin@redhat.com  Thu Aug 22 12:36:23 2002\n",
      "Return-Path: <exmh-workers-admin@spamassassin.taint.org>\n",
      "Delivered-To: zzzz@localhost.netnoteinc.com\n",
      "Received: from localhost (localhost [127.0.0.1])\n",
      "\tby phobos.labs.netnoteinc.com (Postfix) with ESMTP id D03E543C36\n",
      "\tfor <zzzz@localhost>; Thu, 22 Aug 2002 07:36:16 -0400 (EDT)\n",
      "Received: from phobos [127.0.0.1]\n",
      "\tby localhost with IMAP (fetchmail-5.9.0)\n",
      "\tfor zzzz@localhost (single-drop); Thu, 22 Aug 2002 12:36:16 +0100 (IST)\n",
      "Received: from listman.spamassassin.taint.org (listman.spamassassin.taint.org [66.187.233.211]) by\n",
      "    dogma.slashnull.org (8.11.6/8.11.6) with ESMTP id g7MBYrZ04811 for\n",
      "    <zzzz-exmh@spamassassin.taint.org>; Thu, 22 Aug 2002 12:34:53 +0100\n",
      "Received: from listman.spamassassin.taint.org (localhost.localdomain [127.0.0.1]) by\n",
      "    listman.redhat.com (Postfix) with ESMTP id 8386540858; Thu, 22 Aug 2002\n",
      "    07:35:02 -0400 (EDT)\n",
      "Delivered-To: exmh-workers@listman.spamassassin.taint.org\n",
      "Received: from int-mx1.corp.spamassassin.taint.org (int-mx1.corp.spamassassin.taint.org\n",
      "    [172.16.52.254]) by listman.redhat.com (Postfix) with ESMTP id 10CF8406D7\n",
      "    for <exmh-workers@listman.redhat.com>; Thu, 22 Aug 2002 07:34:10 -0400\n",
      "    (EDT)\n",
      "Received: (from mail@localhost) by int-mx1.corp.spamassassin.taint.org (8.11.6/8.11.6)\n",
      "    id g7MBY7g11259 for exmh-workers@listman.redhat.com; Thu, 22 Aug 2002\n",
      "    07:34:07 -0400\n",
      "Received: from mx1.spamassassin.taint.org (mx1.spamassassin.taint.org [172.16.48.31]) by\n",
      "    int-mx1.corp.redhat.com (8.11.6/8.11.6) with SMTP id g7MBY7Y11255 for\n",
      "    <exmh-workers@redhat.com>; Thu, 22 Aug 2002 07:34:07 -0400\n",
      "Received: from ratree.psu.ac.th ([202.28.97.6]) by mx1.spamassassin.taint.org\n",
      "    (8.11.6/8.11.6) with SMTP id g7MBIhl25223 for <exmh-workers@redhat.com>;\n",
      "    Thu, 22 Aug 2002 07:18:55 -0400\n",
      "Received: from delta.cs.mu.OZ.AU (delta.coe.psu.ac.th [172.30.0.98]) by\n",
      "    ratree.psu.ac.th (8.11.6/8.11.6) with ESMTP id g7MBWel29762;\n",
      "    Thu, 22 Aug 2002 18:32:40 +0700 (ICT)\n",
      "Received: from munnari.OZ.AU (localhost [127.0.0.1]) by delta.cs.mu.OZ.AU\n",
      "    (8.11.6/8.11.6) with ESMTP id g7MBQPW13260; Thu, 22 Aug 2002 18:26:25\n",
      "    +0700 (ICT)\n",
      "From: Robert Elz <kre@munnari.OZ.AU>\n",
      "To: Chris Garrigues <cwg-dated-1030377287.06fa6d@DeepEddy.Com>\n",
      "Cc: exmh-workers@spamassassin.taint.org\n",
      "Subject: Re: New Sequences Window\n",
      "In-Reply-To: <1029945287.4797.TMDA@deepeddy.vircio.com>\n",
      "References: <1029945287.4797.TMDA@deepeddy.vircio.com>\n",
      "    <1029882468.3116.TMDA@deepeddy.vircio.com> <9627.1029933001@munnari.OZ.AU>\n",
      "    <1029943066.26919.TMDA@deepeddy.vircio.com>\n",
      "    <1029944441.398.TMDA@deepeddy.vircio.com>\n",
      "MIME-Version: 1.0\n",
      "Content-Type: text/plain; charset=us-ascii\n",
      "Message-Id: <13258.1030015585@munnari.OZ.AU>\n",
      "X-Loop: exmh-workers@spamassassin.taint.org\n",
      "Sender: exmh-workers-admin@spamassassin.taint.org\n",
      "Errors-To: exmh-workers-admin@spamassassin.taint.org\n",
      "X-Beenthere: exmh-workers@spamassassin.taint.org\n",
      "X-Mailman-Version: 2.0.1\n",
      "Precedence: bulk\n",
      "List-Help: <mailto:exmh-workers-request@spamassassin.taint.org?subject=help>\n",
      "List-Post: <mailto:exmh-workers@spamassassin.taint.org>\n",
      "List-Subscribe: <https://listman.spamassassin.taint.org/mailman/listinfo/exmh-workers>,\n",
      "    <mailto:exmh-workers-request@redhat.com?subject=subscribe>\n",
      "List-Id: Discussion list for EXMH developers <exmh-workers.spamassassin.taint.org>\n",
      "List-Unsubscribe: <https://listman.spamassassin.taint.org/mailman/listinfo/exmh-workers>,\n",
      "    <mailto:exmh-workers-request@redhat.com?subject=unsubscribe>\n",
      "List-Archive: <https://listman.spamassassin.taint.org/mailman/private/exmh-workers/>\n",
      "Date: Thu, 22 Aug 2002 18:26:25 +0700\n",
      "\n",
      "\n",
      "Dear Mr Still\n",
      "\n",
      "Good tidings to you and all your staff for the festive season ahead (Christmas).\n",
      "Now to the crux of the matter-in-hand: I am a fully qualified Santa Claus and am wondering whether you might consider me to run my own \"Santa's Grotto\" in your store.\n",
      "But WAIT! You're probably thinking: \"What makes him so special?\"\n",
      "Well, first of all, I have made several changes to the characterisation of Father Christmas. Rather than greeting the children with shouts of \"Ho, ho, ho!\" I prefer to whisper the phrase \"Dependence is not unfathomable in this cruel world we live in\". In addition, my gifts are ALL hand-made, ranging from felt hoops to vanilla-pod holders.\n",
      "You will note also, from the enclosed sketch, that I have radically redesigned Santa's outfit and have renamed my character \"Lord Buckles\". Would you be interested in employing me? I promise NEVER to let you down.\n",
      "I look forward to hearing from you.\n",
      "\n",
      "Best wishes\n",
      "Robin Cooper\n",
      "[Excerpt from the book: The Timewaster Letters by Robin Cooper]\n",
      "\n"
     ]
    }
   ],
   "source": [
    "EXAMPLE_FILE = './SpamData/01_Processing/practice_email.txt'\n",
    "stream = open(EXAMPLE_FILE)\n",
    "message = stream.read()\n",
    "print(message)"
   ]
  },
  {
   "cell_type": "code",
   "execution_count": null,
   "id": "3338b48b-76c6-4813-af27-3e7baaf4551b",
   "metadata": {},
   "outputs": [],
   "source": []
  },
  {
   "cell_type": "code",
   "execution_count": 4,
   "id": "3e738dd5-87c3-4883-8e57-190af43ee5e1",
   "metadata": {},
   "outputs": [
    {
     "name": "stdout",
     "output_type": "stream",
     "text": [
      "\n",
      "\n",
      "Dear Mr Still\n",
      "\n",
      "\n",
      "\n",
      "Good tidings to you and all your staff for the festive season ahead (Christmas).\n",
      "\n",
      "Now to the crux of the matter-in-hand: I am a fully qualified Santa Claus and am wondering whether you might consider me to run my own \"Santa's Grotto\" in your store.\n",
      "\n",
      "But WAIT! You're probably thinking: \"What makes him so special?\"\n",
      "\n",
      "Well, first of all, I have made several changes to the characterisation of Father Christmas. Rather than greeting the children with shouts of \"Ho, ho, ho!\" I prefer to whisper the phrase \"Dependence is not unfathomable in this cruel world we live in\". In addition, my gifts are ALL hand-made, ranging from felt hoops to vanilla-pod holders.\n",
      "\n",
      "You will note also, from the enclosed sketch, that I have radically redesigned Santa's outfit and have renamed my character \"Lord Buckles\". Would you be interested in employing me? I promise NEVER to let you down.\n",
      "\n",
      "I look forward to hearing from you.\n",
      "\n",
      "\n",
      "\n",
      "Best wishes\n",
      "\n",
      "Robin Cooper\n",
      "\n",
      "[Excerpt from the book: The Timewaster Letters by Robin Cooper]\n",
      "\n"
     ]
    }
   ],
   "source": [
    "stream = open(EXAMPLE_FILE)\n",
    "\n",
    "is_body = False;\n",
    "lines = []\n",
    "\n",
    "for line in stream:\n",
    "    if is_body:\n",
    "        lines.append(line)\n",
    "    elif line == '\\n':\n",
    "        is_body = True\n",
    "\n",
    "\n",
    "mess = '\\n'.join(lines)\n",
    "\n",
    "print(mess)\n",
    "\n",
    "stream.close()"
   ]
  },
  {
   "cell_type": "code",
   "execution_count": 5,
   "id": "db078f19-9df6-47ab-9365-6093955cedbd",
   "metadata": {},
   "outputs": [],
   "source": [
    "def generate_squares(N):\n",
    "    for i in range(N):\n",
    "        yield i ** 2"
   ]
  },
  {
   "cell_type": "code",
   "execution_count": 6,
   "id": "deb6fa4e-e903-4381-96b0-13f83e8e519c",
   "metadata": {},
   "outputs": [
    {
     "name": "stdout",
     "output_type": "stream",
     "text": [
      "0\n",
      "1\n",
      "4\n",
      "9\n",
      "16\n",
      "25\n",
      "36\n",
      "49\n",
      "64\n"
     ]
    }
   ],
   "source": [
    "for i in generate_squares(9):\n",
    "    print(i)"
   ]
  },
  {
   "cell_type": "code",
   "execution_count": 7,
   "id": "04f1e407-5b43-4bb7-b1f7-769500faa667",
   "metadata": {},
   "outputs": [],
   "source": [
    "def email_body_generator(path):\n",
    "    for root, dirnames, filenames in walk(path):\n",
    "        for filename in filenames:\n",
    "            filepath = join(root, filename)\n",
    "            stream = open(filepath, encoding='latin-1')\n",
    "\n",
    "            is_body = False\n",
    "            lines = []\n",
    "            for line in stream:\n",
    "                if is_body:\n",
    "                    lines.append(line)\n",
    "                elif line == '\\n':\n",
    "                    is_body = True\n",
    "            stream.close()\n",
    "            email_body = '\\n'.join(lines)\n",
    "            yield filename, email_body\n"
   ]
  },
  {
   "cell_type": "code",
   "execution_count": 8,
   "id": "90538d22-96c1-4333-a4e6-8f7b4a0fbbf8",
   "metadata": {},
   "outputs": [],
   "source": [
    "def df_from_directory(path, classification):\n",
    "    rows = []\n",
    "    row_names = []\n",
    "\n",
    "    for filename, email_body in email_body_generator(path):\n",
    "        rows.append({'message': email_body, 'classification': classification})\n",
    "        row_names.append(filename)\n",
    "    return pd.DataFrame(rows, index=row_names)"
   ]
  },
  {
   "cell_type": "code",
   "execution_count": 9,
   "id": "e77889b0-26c5-49d8-82f5-7ed61ca20e67",
   "metadata": {},
   "outputs": [
    {
     "data": {
      "text/html": [
       "<div>\n",
       "<style scoped>\n",
       "    .dataframe tbody tr th:only-of-type {\n",
       "        vertical-align: middle;\n",
       "    }\n",
       "\n",
       "    .dataframe tbody tr th {\n",
       "        vertical-align: top;\n",
       "    }\n",
       "\n",
       "    .dataframe thead th {\n",
       "        text-align: right;\n",
       "    }\n",
       "</style>\n",
       "<table border=\"1\" class=\"dataframe\">\n",
       "  <thead>\n",
       "    <tr style=\"text-align: right;\">\n",
       "      <th></th>\n",
       "      <th>message</th>\n",
       "      <th>classification</th>\n",
       "    </tr>\n",
       "  </thead>\n",
       "  <tbody>\n",
       "    <tr>\n",
       "      <th>00249.5f45607c1bffe89f60ba1ec9f878039a</th>\n",
       "      <td>Dear Homeowner,\\n\\n \\n\\nInterest Rates are at ...</td>\n",
       "      <td>0</td>\n",
       "    </tr>\n",
       "    <tr>\n",
       "      <th>00373.ebe8670ac56b04125c25100a36ab0510</th>\n",
       "      <td>ATTENTION: This is a MUST for ALL Computer Use...</td>\n",
       "      <td>0</td>\n",
       "    </tr>\n",
       "    <tr>\n",
       "      <th>00214.1367039e50dc6b7adb0f2aa8aba83216</th>\n",
       "      <td>This is a multi-part message in MIME format.\\n...</td>\n",
       "      <td>0</td>\n",
       "    </tr>\n",
       "    <tr>\n",
       "      <th>00210.050ffd105bd4e006771ee63cabc59978</th>\n",
       "      <td>IMPORTANT INFORMATION:\\n\\n\\n\\nThe new domain n...</td>\n",
       "      <td>0</td>\n",
       "    </tr>\n",
       "    <tr>\n",
       "      <th>00033.9babb58d9298daa2963d4f514193d7d6</th>\n",
       "      <td>This is the bottom line.  If you can GIVE AWAY...</td>\n",
       "      <td>0</td>\n",
       "    </tr>\n",
       "    <tr>\n",
       "      <th>...</th>\n",
       "      <td>...</td>\n",
       "      <td>...</td>\n",
       "    </tr>\n",
       "    <tr>\n",
       "      <th>01311.43bfe86df65d53c5f7ca2365dc12582b</th>\n",
       "      <td>&lt;!DOCTYPE HTML PUBLIC \"-//W3C//DTD HTML 4.0 Tr...</td>\n",
       "      <td>0</td>\n",
       "    </tr>\n",
       "    <tr>\n",
       "      <th>00851.dc5452f80ba0bb8481dfc48f70380c4d</th>\n",
       "      <td>&lt;html&gt;\\n\\n&lt;HEAD&gt; \\n\\n&lt;TITLE&gt;creditfix&lt;/TITLE&gt; ...</td>\n",
       "      <td>0</td>\n",
       "    </tr>\n",
       "    <tr>\n",
       "      <th>01328.b23902de23cb3ca1f3334517282372b2</th>\n",
       "      <td>Hello:\\n\\n\\n\\nAre you satisfied with your ISP?...</td>\n",
       "      <td>0</td>\n",
       "    </tr>\n",
       "    <tr>\n",
       "      <th>01244.9ef966101737a6fc27d8965def288d70</th>\n",
       "      <td>&lt;html&gt;&lt;HEAD&gt;&lt;TITLE&gt;creditfix&lt;/TITLE&gt; \\n\\n&lt;/HEA...</td>\n",
       "      <td>0</td>\n",
       "    </tr>\n",
       "    <tr>\n",
       "      <th>00788.b98a23c07d59156d172683fc29b80661</th>\n",
       "      <td>&lt;HTML&gt;&lt;HEAD&gt;&lt;/HEAD&gt;&lt;BODY&gt;&lt;b&gt;&lt;FONT SIZE=3D4&gt;In ...</td>\n",
       "      <td>0</td>\n",
       "    </tr>\n",
       "  </tbody>\n",
       "</table>\n",
       "<p>1898 rows × 2 columns</p>\n",
       "</div>"
      ],
      "text/plain": [
       "                                                                                  message  \\\n",
       "00249.5f45607c1bffe89f60ba1ec9f878039a  Dear Homeowner,\\n\\n \\n\\nInterest Rates are at ...   \n",
       "00373.ebe8670ac56b04125c25100a36ab0510  ATTENTION: This is a MUST for ALL Computer Use...   \n",
       "00214.1367039e50dc6b7adb0f2aa8aba83216  This is a multi-part message in MIME format.\\n...   \n",
       "00210.050ffd105bd4e006771ee63cabc59978  IMPORTANT INFORMATION:\\n\\n\\n\\nThe new domain n...   \n",
       "00033.9babb58d9298daa2963d4f514193d7d6  This is the bottom line.  If you can GIVE AWAY...   \n",
       "...                                                                                   ...   \n",
       "01311.43bfe86df65d53c5f7ca2365dc12582b  <!DOCTYPE HTML PUBLIC \"-//W3C//DTD HTML 4.0 Tr...   \n",
       "00851.dc5452f80ba0bb8481dfc48f70380c4d  <html>\\n\\n<HEAD> \\n\\n<TITLE>creditfix</TITLE> ...   \n",
       "01328.b23902de23cb3ca1f3334517282372b2  Hello:\\n\\n\\n\\nAre you satisfied with your ISP?...   \n",
       "01244.9ef966101737a6fc27d8965def288d70  <html><HEAD><TITLE>creditfix</TITLE> \\n\\n</HEA...   \n",
       "00788.b98a23c07d59156d172683fc29b80661  <HTML><HEAD></HEAD><BODY><b><FONT SIZE=3D4>In ...   \n",
       "\n",
       "                                        classification  \n",
       "00249.5f45607c1bffe89f60ba1ec9f878039a               0  \n",
       "00373.ebe8670ac56b04125c25100a36ab0510               0  \n",
       "00214.1367039e50dc6b7adb0f2aa8aba83216               0  \n",
       "00210.050ffd105bd4e006771ee63cabc59978               0  \n",
       "00033.9babb58d9298daa2963d4f514193d7d6               0  \n",
       "...                                                ...  \n",
       "01311.43bfe86df65d53c5f7ca2365dc12582b               0  \n",
       "00851.dc5452f80ba0bb8481dfc48f70380c4d               0  \n",
       "01328.b23902de23cb3ca1f3334517282372b2               0  \n",
       "01244.9ef966101737a6fc27d8965def288d70               0  \n",
       "00788.b98a23c07d59156d172683fc29b80661               0  \n",
       "\n",
       "[1898 rows x 2 columns]"
      ]
     },
     "execution_count": 9,
     "metadata": {},
     "output_type": "execute_result"
    }
   ],
   "source": [
    "spam_email1 = df_from_directory(SPAM_1_PATH, 0)\n",
    "spam_email2 = df_from_directory(SPAM_2_PATH, 0)\n",
    "spam_emails= pd.concat([spam_email1, spam_email2])\n",
    "spam_emails"
   ]
  },
  {
   "cell_type": "code",
   "execution_count": 10,
   "id": "c0040417-dc32-481c-b959-4007ad3cabf6",
   "metadata": {},
   "outputs": [
    {
     "data": {
      "text/plain": [
       "(1898, 2)"
      ]
     },
     "execution_count": 10,
     "metadata": {},
     "output_type": "execute_result"
    }
   ],
   "source": [
    "spam_emails.shape"
   ]
  },
  {
   "cell_type": "code",
   "execution_count": 11,
   "id": "cbb6e920-8c88-47ff-b1fc-57058c874177",
   "metadata": {},
   "outputs": [
    {
     "data": {
      "text/html": [
       "<div>\n",
       "<style scoped>\n",
       "    .dataframe tbody tr th:only-of-type {\n",
       "        vertical-align: middle;\n",
       "    }\n",
       "\n",
       "    .dataframe tbody tr th {\n",
       "        vertical-align: top;\n",
       "    }\n",
       "\n",
       "    .dataframe thead th {\n",
       "        text-align: right;\n",
       "    }\n",
       "</style>\n",
       "<table border=\"1\" class=\"dataframe\">\n",
       "  <thead>\n",
       "    <tr style=\"text-align: right;\">\n",
       "      <th></th>\n",
       "      <th>message</th>\n",
       "      <th>classification</th>\n",
       "    </tr>\n",
       "  </thead>\n",
       "  <tbody>\n",
       "    <tr>\n",
       "      <th>00769.25bf9a767b5db0ed93f03c1637281663</th>\n",
       "      <td>\\n\\nIn a message dated 9/24/2002 11:24:58 AM, ...</td>\n",
       "      <td>1</td>\n",
       "    </tr>\n",
       "    <tr>\n",
       "      <th>01074.8590d61ac0aeeadb58dc2f2ba776c406</th>\n",
       "      <td>Hiya, I always seem to get errors when I do an...</td>\n",
       "      <td>1</td>\n",
       "    </tr>\n",
       "    <tr>\n",
       "      <th>02479.14365bcad3a60fcf24c5c1813f6291fb</th>\n",
       "      <td>\\n\\nI don't know how one can expect better and...</td>\n",
       "      <td>1</td>\n",
       "    </tr>\n",
       "    <tr>\n",
       "      <th>01417.ce7b07a2114218dbac682b599785820d</th>\n",
       "      <td>Tim Peters wrote:\\n\\n&gt; I've run no experiments...</td>\n",
       "      <td>1</td>\n",
       "    </tr>\n",
       "    <tr>\n",
       "      <th>00357.d559b71616f64ba1d1c1e61a03644fd4</th>\n",
       "      <td>At 10:34 AM -0700 on 8/28/02, Jim Whitehead wr...</td>\n",
       "      <td>1</td>\n",
       "    </tr>\n",
       "    <tr>\n",
       "      <th>...</th>\n",
       "      <td>...</td>\n",
       "      <td>...</td>\n",
       "    </tr>\n",
       "    <tr>\n",
       "      <th>00609.dd49926ce94a1ea328cce9b62825bc97</th>\n",
       "      <td>I'm one of the 30,000 but it's not working ver...</td>\n",
       "      <td>1</td>\n",
       "    </tr>\n",
       "    <tr>\n",
       "      <th>00957.e0b56b117f3ec5f85e432a9d2a47801f</th>\n",
       "      <td>Damien Morton quoted:\\n\\n&gt;W3C approves HTML 4 ...</td>\n",
       "      <td>1</td>\n",
       "    </tr>\n",
       "    <tr>\n",
       "      <th>01127.841233b48eceb74a825417d8d918abf8</th>\n",
       "      <td>On Mon, 2002-07-22 at 06:50, che wrote:\\n\\n\\n\\...</td>\n",
       "      <td>1</td>\n",
       "    </tr>\n",
       "    <tr>\n",
       "      <th>01178.5c977dff972cd6eef64d4173b90307f0</th>\n",
       "      <td>Once upon a time, Manfred wrote :\\n\\n\\n\\n&gt; I w...</td>\n",
       "      <td>1</td>\n",
       "    </tr>\n",
       "    <tr>\n",
       "      <th>00747.352d424267d36975a7b40b85ffd0885e</th>\n",
       "      <td>If you run Pick, and then use the \"New FTOC\" b...</td>\n",
       "      <td>1</td>\n",
       "    </tr>\n",
       "  </tbody>\n",
       "</table>\n",
       "<p>3901 rows × 2 columns</p>\n",
       "</div>"
      ],
      "text/plain": [
       "                                                                                  message  \\\n",
       "00769.25bf9a767b5db0ed93f03c1637281663  \\n\\nIn a message dated 9/24/2002 11:24:58 AM, ...   \n",
       "01074.8590d61ac0aeeadb58dc2f2ba776c406  Hiya, I always seem to get errors when I do an...   \n",
       "02479.14365bcad3a60fcf24c5c1813f6291fb  \\n\\nI don't know how one can expect better and...   \n",
       "01417.ce7b07a2114218dbac682b599785820d  Tim Peters wrote:\\n\\n> I've run no experiments...   \n",
       "00357.d559b71616f64ba1d1c1e61a03644fd4  At 10:34 AM -0700 on 8/28/02, Jim Whitehead wr...   \n",
       "...                                                                                   ...   \n",
       "00609.dd49926ce94a1ea328cce9b62825bc97  I'm one of the 30,000 but it's not working ver...   \n",
       "00957.e0b56b117f3ec5f85e432a9d2a47801f  Damien Morton quoted:\\n\\n>W3C approves HTML 4 ...   \n",
       "01127.841233b48eceb74a825417d8d918abf8  On Mon, 2002-07-22 at 06:50, che wrote:\\n\\n\\n\\...   \n",
       "01178.5c977dff972cd6eef64d4173b90307f0  Once upon a time, Manfred wrote :\\n\\n\\n\\n> I w...   \n",
       "00747.352d424267d36975a7b40b85ffd0885e  If you run Pick, and then use the \"New FTOC\" b...   \n",
       "\n",
       "                                        classification  \n",
       "00769.25bf9a767b5db0ed93f03c1637281663               1  \n",
       "01074.8590d61ac0aeeadb58dc2f2ba776c406               1  \n",
       "02479.14365bcad3a60fcf24c5c1813f6291fb               1  \n",
       "01417.ce7b07a2114218dbac682b599785820d               1  \n",
       "00357.d559b71616f64ba1d1c1e61a03644fd4               1  \n",
       "...                                                ...  \n",
       "00609.dd49926ce94a1ea328cce9b62825bc97               1  \n",
       "00957.e0b56b117f3ec5f85e432a9d2a47801f               1  \n",
       "01127.841233b48eceb74a825417d8d918abf8               1  \n",
       "01178.5c977dff972cd6eef64d4173b90307f0               1  \n",
       "00747.352d424267d36975a7b40b85ffd0885e               1  \n",
       "\n",
       "[3901 rows x 2 columns]"
      ]
     },
     "execution_count": 11,
     "metadata": {},
     "output_type": "execute_result"
    }
   ],
   "source": [
    "ham_email1 = df_from_directory(ESAY_NONSPAM_1_PATH, 1)\n",
    "ham_email2 = df_from_directory(ESAY_NONSPAM_2_PATH, 1)\n",
    "ham_emails = pd.concat([ham_email1, ham_email2])\n",
    "ham_emails"
   ]
  },
  {
   "cell_type": "code",
   "execution_count": 12,
   "id": "ec4b07e3-e29b-427e-afcc-18d323047ab2",
   "metadata": {},
   "outputs": [
    {
     "data": {
      "text/plain": [
       "(3901, 2)"
      ]
     },
     "execution_count": 12,
     "metadata": {},
     "output_type": "execute_result"
    }
   ],
   "source": [
    "ham_emails.shape"
   ]
  },
  {
   "cell_type": "code",
   "execution_count": 13,
   "id": "ab634adc-6279-4467-8be0-4114c4013f5f",
   "metadata": {},
   "outputs": [
    {
     "name": "stdout",
     "output_type": "stream",
     "text": [
      "Shape of entire data frame is (5799, 2)\n"
     ]
    },
    {
     "data": {
      "text/html": [
       "<div>\n",
       "<style scoped>\n",
       "    .dataframe tbody tr th:only-of-type {\n",
       "        vertical-align: middle;\n",
       "    }\n",
       "\n",
       "    .dataframe tbody tr th {\n",
       "        vertical-align: top;\n",
       "    }\n",
       "\n",
       "    .dataframe thead th {\n",
       "        text-align: right;\n",
       "    }\n",
       "</style>\n",
       "<table border=\"1\" class=\"dataframe\">\n",
       "  <thead>\n",
       "    <tr style=\"text-align: right;\">\n",
       "      <th></th>\n",
       "      <th>message</th>\n",
       "      <th>classification</th>\n",
       "    </tr>\n",
       "  </thead>\n",
       "  <tbody>\n",
       "    <tr>\n",
       "      <th>00249.5f45607c1bffe89f60ba1ec9f878039a</th>\n",
       "      <td>Dear Homeowner,\\n\\n \\n\\nInterest Rates are at ...</td>\n",
       "      <td>0</td>\n",
       "    </tr>\n",
       "    <tr>\n",
       "      <th>00373.ebe8670ac56b04125c25100a36ab0510</th>\n",
       "      <td>ATTENTION: This is a MUST for ALL Computer Use...</td>\n",
       "      <td>0</td>\n",
       "    </tr>\n",
       "    <tr>\n",
       "      <th>00214.1367039e50dc6b7adb0f2aa8aba83216</th>\n",
       "      <td>This is a multi-part message in MIME format.\\n...</td>\n",
       "      <td>0</td>\n",
       "    </tr>\n",
       "    <tr>\n",
       "      <th>00210.050ffd105bd4e006771ee63cabc59978</th>\n",
       "      <td>IMPORTANT INFORMATION:\\n\\n\\n\\nThe new domain n...</td>\n",
       "      <td>0</td>\n",
       "    </tr>\n",
       "    <tr>\n",
       "      <th>00033.9babb58d9298daa2963d4f514193d7d6</th>\n",
       "      <td>This is the bottom line.  If you can GIVE AWAY...</td>\n",
       "      <td>0</td>\n",
       "    </tr>\n",
       "    <tr>\n",
       "      <th>...</th>\n",
       "      <td>...</td>\n",
       "      <td>...</td>\n",
       "    </tr>\n",
       "    <tr>\n",
       "      <th>00609.dd49926ce94a1ea328cce9b62825bc97</th>\n",
       "      <td>I'm one of the 30,000 but it's not working ver...</td>\n",
       "      <td>1</td>\n",
       "    </tr>\n",
       "    <tr>\n",
       "      <th>00957.e0b56b117f3ec5f85e432a9d2a47801f</th>\n",
       "      <td>Damien Morton quoted:\\n\\n&gt;W3C approves HTML 4 ...</td>\n",
       "      <td>1</td>\n",
       "    </tr>\n",
       "    <tr>\n",
       "      <th>01127.841233b48eceb74a825417d8d918abf8</th>\n",
       "      <td>On Mon, 2002-07-22 at 06:50, che wrote:\\n\\n\\n\\...</td>\n",
       "      <td>1</td>\n",
       "    </tr>\n",
       "    <tr>\n",
       "      <th>01178.5c977dff972cd6eef64d4173b90307f0</th>\n",
       "      <td>Once upon a time, Manfred wrote :\\n\\n\\n\\n&gt; I w...</td>\n",
       "      <td>1</td>\n",
       "    </tr>\n",
       "    <tr>\n",
       "      <th>00747.352d424267d36975a7b40b85ffd0885e</th>\n",
       "      <td>If you run Pick, and then use the \"New FTOC\" b...</td>\n",
       "      <td>1</td>\n",
       "    </tr>\n",
       "  </tbody>\n",
       "</table>\n",
       "<p>5799 rows × 2 columns</p>\n",
       "</div>"
      ],
      "text/plain": [
       "                                                                                  message  \\\n",
       "00249.5f45607c1bffe89f60ba1ec9f878039a  Dear Homeowner,\\n\\n \\n\\nInterest Rates are at ...   \n",
       "00373.ebe8670ac56b04125c25100a36ab0510  ATTENTION: This is a MUST for ALL Computer Use...   \n",
       "00214.1367039e50dc6b7adb0f2aa8aba83216  This is a multi-part message in MIME format.\\n...   \n",
       "00210.050ffd105bd4e006771ee63cabc59978  IMPORTANT INFORMATION:\\n\\n\\n\\nThe new domain n...   \n",
       "00033.9babb58d9298daa2963d4f514193d7d6  This is the bottom line.  If you can GIVE AWAY...   \n",
       "...                                                                                   ...   \n",
       "00609.dd49926ce94a1ea328cce9b62825bc97  I'm one of the 30,000 but it's not working ver...   \n",
       "00957.e0b56b117f3ec5f85e432a9d2a47801f  Damien Morton quoted:\\n\\n>W3C approves HTML 4 ...   \n",
       "01127.841233b48eceb74a825417d8d918abf8  On Mon, 2002-07-22 at 06:50, che wrote:\\n\\n\\n\\...   \n",
       "01178.5c977dff972cd6eef64d4173b90307f0  Once upon a time, Manfred wrote :\\n\\n\\n\\n> I w...   \n",
       "00747.352d424267d36975a7b40b85ffd0885e  If you run Pick, and then use the \"New FTOC\" b...   \n",
       "\n",
       "                                        classification  \n",
       "00249.5f45607c1bffe89f60ba1ec9f878039a               0  \n",
       "00373.ebe8670ac56b04125c25100a36ab0510               0  \n",
       "00214.1367039e50dc6b7adb0f2aa8aba83216               0  \n",
       "00210.050ffd105bd4e006771ee63cabc59978               0  \n",
       "00033.9babb58d9298daa2963d4f514193d7d6               0  \n",
       "...                                                ...  \n",
       "00609.dd49926ce94a1ea328cce9b62825bc97               1  \n",
       "00957.e0b56b117f3ec5f85e432a9d2a47801f               1  \n",
       "01127.841233b48eceb74a825417d8d918abf8               1  \n",
       "01178.5c977dff972cd6eef64d4173b90307f0               1  \n",
       "00747.352d424267d36975a7b40b85ffd0885e               1  \n",
       "\n",
       "[5799 rows x 2 columns]"
      ]
     },
     "execution_count": 13,
     "metadata": {},
     "output_type": "execute_result"
    }
   ],
   "source": [
    "data = pd.concat([spam_emails, ham_emails])\n",
    "\n",
    "print(\"Shape of entire data frame is\", data.shape)\n",
    "\n",
    "data"
   ]
  },
  {
   "cell_type": "code",
   "execution_count": 14,
   "id": "8d01548d-7ffe-4d83-94cb-475cfbfcb361",
   "metadata": {},
   "outputs": [],
   "source": [
    "null_count = data['message'].isnull().values.any()"
   ]
  },
  {
   "cell_type": "code",
   "execution_count": 15,
   "id": "bed8348f-2b07-40be-9709-34efa7dd0298",
   "metadata": {},
   "outputs": [],
   "source": [
    "empty_count = (data['message'].str.len() == 0).sum()"
   ]
  },
  {
   "cell_type": "code",
   "execution_count": 16,
   "id": "2bad5330-d0b6-4f25-92b5-55db94cb1afb",
   "metadata": {},
   "outputs": [
    {
     "data": {
      "text/plain": [
       "0"
      ]
     },
     "execution_count": 16,
     "metadata": {},
     "output_type": "execute_result"
    }
   ],
   "source": [
    "(data['message'].isnull().values).sum()"
   ]
  },
  {
   "cell_type": "code",
   "execution_count": 17,
   "id": "09395147-da3f-46d6-8f32-4d4090405afc",
   "metadata": {},
   "outputs": [
    {
     "data": {
      "text/plain": [
       "3"
      ]
     },
     "execution_count": 17,
     "metadata": {},
     "output_type": "execute_result"
    }
   ],
   "source": [
    "null_empty_count = null_count + empty_count\n",
    "null_empty_count"
   ]
  },
  {
   "cell_type": "code",
   "execution_count": 18,
   "id": "3f779a24-f973-4891-a256-19976de1059e",
   "metadata": {},
   "outputs": [
    {
     "name": "stdout",
     "output_type": "stream",
     "text": [
      "Index(['cmds', 'cmds', 'cmds'], dtype='object')\n"
     ]
    }
   ],
   "source": [
    "empty_indices = data[data['message'].str.len() == 0].index\n",
    "print(empty_indices)"
   ]
  },
  {
   "cell_type": "code",
   "execution_count": 19,
   "id": "c1efae0b-d1a9-4bce-8ec8-10e6ad733419",
   "metadata": {},
   "outputs": [
    {
     "data": {
      "text/plain": [
       "array([False, False, False, ..., False, False, False])"
      ]
     },
     "execution_count": 19,
     "metadata": {},
     "output_type": "execute_result"
    }
   ],
   "source": [
    "data.index.get_loc('cmds')"
   ]
  },
  {
   "cell_type": "code",
   "execution_count": 20,
   "id": "20d3e61a-5faa-4c3d-b2da-f7af8c46d9bb",
   "metadata": {
    "scrolled": true
   },
   "outputs": [],
   "source": [
    "data.drop(['cmds'], inplace=True)"
   ]
  },
  {
   "cell_type": "code",
   "execution_count": 21,
   "id": "48e5220b-4951-4659-9887-bdb1c9f7c3e4",
   "metadata": {},
   "outputs": [
    {
     "data": {
      "text/plain": [
       "0"
      ]
     },
     "execution_count": 21,
     "metadata": {},
     "output_type": "execute_result"
    }
   ],
   "source": [
    "empty_count = (data['message'].str.len() == 0).sum()\n",
    "empty_count"
   ]
  },
  {
   "cell_type": "code",
   "execution_count": 22,
   "id": "f75903cc-e940-4224-86d9-b3c8feba78c4",
   "metadata": {
    "scrolled": true
   },
   "outputs": [
    {
     "data": {
      "text/html": [
       "<div>\n",
       "<style scoped>\n",
       "    .dataframe tbody tr th:only-of-type {\n",
       "        vertical-align: middle;\n",
       "    }\n",
       "\n",
       "    .dataframe tbody tr th {\n",
       "        vertical-align: top;\n",
       "    }\n",
       "\n",
       "    .dataframe thead th {\n",
       "        text-align: right;\n",
       "    }\n",
       "</style>\n",
       "<table border=\"1\" class=\"dataframe\">\n",
       "  <thead>\n",
       "    <tr style=\"text-align: right;\">\n",
       "      <th></th>\n",
       "      <th>message</th>\n",
       "      <th>classification</th>\n",
       "    </tr>\n",
       "  </thead>\n",
       "  <tbody>\n",
       "    <tr>\n",
       "      <th>00249.5f45607c1bffe89f60ba1ec9f878039a</th>\n",
       "      <td>Dear Homeowner,\\n\\n \\n\\nInterest Rates are at ...</td>\n",
       "      <td>0</td>\n",
       "    </tr>\n",
       "    <tr>\n",
       "      <th>00373.ebe8670ac56b04125c25100a36ab0510</th>\n",
       "      <td>ATTENTION: This is a MUST for ALL Computer Use...</td>\n",
       "      <td>0</td>\n",
       "    </tr>\n",
       "    <tr>\n",
       "      <th>00214.1367039e50dc6b7adb0f2aa8aba83216</th>\n",
       "      <td>This is a multi-part message in MIME format.\\n...</td>\n",
       "      <td>0</td>\n",
       "    </tr>\n",
       "    <tr>\n",
       "      <th>00210.050ffd105bd4e006771ee63cabc59978</th>\n",
       "      <td>IMPORTANT INFORMATION:\\n\\n\\n\\nThe new domain n...</td>\n",
       "      <td>0</td>\n",
       "    </tr>\n",
       "    <tr>\n",
       "      <th>00033.9babb58d9298daa2963d4f514193d7d6</th>\n",
       "      <td>This is the bottom line.  If you can GIVE AWAY...</td>\n",
       "      <td>0</td>\n",
       "    </tr>\n",
       "    <tr>\n",
       "      <th>...</th>\n",
       "      <td>...</td>\n",
       "      <td>...</td>\n",
       "    </tr>\n",
       "    <tr>\n",
       "      <th>00609.dd49926ce94a1ea328cce9b62825bc97</th>\n",
       "      <td>I'm one of the 30,000 but it's not working ver...</td>\n",
       "      <td>1</td>\n",
       "    </tr>\n",
       "    <tr>\n",
       "      <th>00957.e0b56b117f3ec5f85e432a9d2a47801f</th>\n",
       "      <td>Damien Morton quoted:\\n\\n&gt;W3C approves HTML 4 ...</td>\n",
       "      <td>1</td>\n",
       "    </tr>\n",
       "    <tr>\n",
       "      <th>01127.841233b48eceb74a825417d8d918abf8</th>\n",
       "      <td>On Mon, 2002-07-22 at 06:50, che wrote:\\n\\n\\n\\...</td>\n",
       "      <td>1</td>\n",
       "    </tr>\n",
       "    <tr>\n",
       "      <th>01178.5c977dff972cd6eef64d4173b90307f0</th>\n",
       "      <td>Once upon a time, Manfred wrote :\\n\\n\\n\\n&gt; I w...</td>\n",
       "      <td>1</td>\n",
       "    </tr>\n",
       "    <tr>\n",
       "      <th>00747.352d424267d36975a7b40b85ffd0885e</th>\n",
       "      <td>If you run Pick, and then use the \"New FTOC\" b...</td>\n",
       "      <td>1</td>\n",
       "    </tr>\n",
       "  </tbody>\n",
       "</table>\n",
       "<p>5796 rows × 2 columns</p>\n",
       "</div>"
      ],
      "text/plain": [
       "                                                                                  message  \\\n",
       "00249.5f45607c1bffe89f60ba1ec9f878039a  Dear Homeowner,\\n\\n \\n\\nInterest Rates are at ...   \n",
       "00373.ebe8670ac56b04125c25100a36ab0510  ATTENTION: This is a MUST for ALL Computer Use...   \n",
       "00214.1367039e50dc6b7adb0f2aa8aba83216  This is a multi-part message in MIME format.\\n...   \n",
       "00210.050ffd105bd4e006771ee63cabc59978  IMPORTANT INFORMATION:\\n\\n\\n\\nThe new domain n...   \n",
       "00033.9babb58d9298daa2963d4f514193d7d6  This is the bottom line.  If you can GIVE AWAY...   \n",
       "...                                                                                   ...   \n",
       "00609.dd49926ce94a1ea328cce9b62825bc97  I'm one of the 30,000 but it's not working ver...   \n",
       "00957.e0b56b117f3ec5f85e432a9d2a47801f  Damien Morton quoted:\\n\\n>W3C approves HTML 4 ...   \n",
       "01127.841233b48eceb74a825417d8d918abf8  On Mon, 2002-07-22 at 06:50, che wrote:\\n\\n\\n\\...   \n",
       "01178.5c977dff972cd6eef64d4173b90307f0  Once upon a time, Manfred wrote :\\n\\n\\n\\n> I w...   \n",
       "00747.352d424267d36975a7b40b85ffd0885e  If you run Pick, and then use the \"New FTOC\" b...   \n",
       "\n",
       "                                        classification  \n",
       "00249.5f45607c1bffe89f60ba1ec9f878039a               0  \n",
       "00373.ebe8670ac56b04125c25100a36ab0510               0  \n",
       "00214.1367039e50dc6b7adb0f2aa8aba83216               0  \n",
       "00210.050ffd105bd4e006771ee63cabc59978               0  \n",
       "00033.9babb58d9298daa2963d4f514193d7d6               0  \n",
       "...                                                ...  \n",
       "00609.dd49926ce94a1ea328cce9b62825bc97               1  \n",
       "00957.e0b56b117f3ec5f85e432a9d2a47801f               1  \n",
       "01127.841233b48eceb74a825417d8d918abf8               1  \n",
       "01178.5c977dff972cd6eef64d4173b90307f0               1  \n",
       "00747.352d424267d36975a7b40b85ffd0885e               1  \n",
       "\n",
       "[5796 rows x 2 columns]"
      ]
     },
     "execution_count": 22,
     "metadata": {},
     "output_type": "execute_result"
    }
   ],
   "source": [
    "data"
   ]
  },
  {
   "cell_type": "code",
   "execution_count": 23,
   "id": "ee90654b-8eab-4f07-b81f-65f6b9151f97",
   "metadata": {},
   "outputs": [
    {
     "data": {
      "text/html": [
       "<div>\n",
       "<style scoped>\n",
       "    .dataframe tbody tr th:only-of-type {\n",
       "        vertical-align: middle;\n",
       "    }\n",
       "\n",
       "    .dataframe tbody tr th {\n",
       "        vertical-align: top;\n",
       "    }\n",
       "\n",
       "    .dataframe thead th {\n",
       "        text-align: right;\n",
       "    }\n",
       "</style>\n",
       "<table border=\"1\" class=\"dataframe\">\n",
       "  <thead>\n",
       "    <tr style=\"text-align: right;\">\n",
       "      <th></th>\n",
       "      <th>message</th>\n",
       "      <th>classification</th>\n",
       "      <th>DOC_ID</th>\n",
       "    </tr>\n",
       "  </thead>\n",
       "  <tbody>\n",
       "    <tr>\n",
       "      <th>00249.5f45607c1bffe89f60ba1ec9f878039a</th>\n",
       "      <td>Dear Homeowner,\\n\\n \\n\\nInterest Rates are at ...</td>\n",
       "      <td>0</td>\n",
       "      <td>0</td>\n",
       "    </tr>\n",
       "    <tr>\n",
       "      <th>00373.ebe8670ac56b04125c25100a36ab0510</th>\n",
       "      <td>ATTENTION: This is a MUST for ALL Computer Use...</td>\n",
       "      <td>0</td>\n",
       "      <td>1</td>\n",
       "    </tr>\n",
       "    <tr>\n",
       "      <th>00214.1367039e50dc6b7adb0f2aa8aba83216</th>\n",
       "      <td>This is a multi-part message in MIME format.\\n...</td>\n",
       "      <td>0</td>\n",
       "      <td>2</td>\n",
       "    </tr>\n",
       "    <tr>\n",
       "      <th>00210.050ffd105bd4e006771ee63cabc59978</th>\n",
       "      <td>IMPORTANT INFORMATION:\\n\\n\\n\\nThe new domain n...</td>\n",
       "      <td>0</td>\n",
       "      <td>3</td>\n",
       "    </tr>\n",
       "    <tr>\n",
       "      <th>00033.9babb58d9298daa2963d4f514193d7d6</th>\n",
       "      <td>This is the bottom line.  If you can GIVE AWAY...</td>\n",
       "      <td>0</td>\n",
       "      <td>4</td>\n",
       "    </tr>\n",
       "    <tr>\n",
       "      <th>...</th>\n",
       "      <td>...</td>\n",
       "      <td>...</td>\n",
       "      <td>...</td>\n",
       "    </tr>\n",
       "    <tr>\n",
       "      <th>00609.dd49926ce94a1ea328cce9b62825bc97</th>\n",
       "      <td>I'm one of the 30,000 but it's not working ver...</td>\n",
       "      <td>1</td>\n",
       "      <td>5791</td>\n",
       "    </tr>\n",
       "    <tr>\n",
       "      <th>00957.e0b56b117f3ec5f85e432a9d2a47801f</th>\n",
       "      <td>Damien Morton quoted:\\n\\n&gt;W3C approves HTML 4 ...</td>\n",
       "      <td>1</td>\n",
       "      <td>5792</td>\n",
       "    </tr>\n",
       "    <tr>\n",
       "      <th>01127.841233b48eceb74a825417d8d918abf8</th>\n",
       "      <td>On Mon, 2002-07-22 at 06:50, che wrote:\\n\\n\\n\\...</td>\n",
       "      <td>1</td>\n",
       "      <td>5793</td>\n",
       "    </tr>\n",
       "    <tr>\n",
       "      <th>01178.5c977dff972cd6eef64d4173b90307f0</th>\n",
       "      <td>Once upon a time, Manfred wrote :\\n\\n\\n\\n&gt; I w...</td>\n",
       "      <td>1</td>\n",
       "      <td>5794</td>\n",
       "    </tr>\n",
       "    <tr>\n",
       "      <th>00747.352d424267d36975a7b40b85ffd0885e</th>\n",
       "      <td>If you run Pick, and then use the \"New FTOC\" b...</td>\n",
       "      <td>1</td>\n",
       "      <td>5795</td>\n",
       "    </tr>\n",
       "  </tbody>\n",
       "</table>\n",
       "<p>5796 rows × 3 columns</p>\n",
       "</div>"
      ],
      "text/plain": [
       "                                                                                  message  \\\n",
       "00249.5f45607c1bffe89f60ba1ec9f878039a  Dear Homeowner,\\n\\n \\n\\nInterest Rates are at ...   \n",
       "00373.ebe8670ac56b04125c25100a36ab0510  ATTENTION: This is a MUST for ALL Computer Use...   \n",
       "00214.1367039e50dc6b7adb0f2aa8aba83216  This is a multi-part message in MIME format.\\n...   \n",
       "00210.050ffd105bd4e006771ee63cabc59978  IMPORTANT INFORMATION:\\n\\n\\n\\nThe new domain n...   \n",
       "00033.9babb58d9298daa2963d4f514193d7d6  This is the bottom line.  If you can GIVE AWAY...   \n",
       "...                                                                                   ...   \n",
       "00609.dd49926ce94a1ea328cce9b62825bc97  I'm one of the 30,000 but it's not working ver...   \n",
       "00957.e0b56b117f3ec5f85e432a9d2a47801f  Damien Morton quoted:\\n\\n>W3C approves HTML 4 ...   \n",
       "01127.841233b48eceb74a825417d8d918abf8  On Mon, 2002-07-22 at 06:50, che wrote:\\n\\n\\n\\...   \n",
       "01178.5c977dff972cd6eef64d4173b90307f0  Once upon a time, Manfred wrote :\\n\\n\\n\\n> I w...   \n",
       "00747.352d424267d36975a7b40b85ffd0885e  If you run Pick, and then use the \"New FTOC\" b...   \n",
       "\n",
       "                                        classification  DOC_ID  \n",
       "00249.5f45607c1bffe89f60ba1ec9f878039a               0       0  \n",
       "00373.ebe8670ac56b04125c25100a36ab0510               0       1  \n",
       "00214.1367039e50dc6b7adb0f2aa8aba83216               0       2  \n",
       "00210.050ffd105bd4e006771ee63cabc59978               0       3  \n",
       "00033.9babb58d9298daa2963d4f514193d7d6               0       4  \n",
       "...                                                ...     ...  \n",
       "00609.dd49926ce94a1ea328cce9b62825bc97               1    5791  \n",
       "00957.e0b56b117f3ec5f85e432a9d2a47801f               1    5792  \n",
       "01127.841233b48eceb74a825417d8d918abf8               1    5793  \n",
       "01178.5c977dff972cd6eef64d4173b90307f0               1    5794  \n",
       "00747.352d424267d36975a7b40b85ffd0885e               1    5795  \n",
       "\n",
       "[5796 rows x 3 columns]"
      ]
     },
     "execution_count": 23,
     "metadata": {},
     "output_type": "execute_result"
    }
   ],
   "source": [
    "document_id = range(0, len(data.index))\n",
    "data['DOC_ID'] = document_id\n",
    "data"
   ]
  },
  {
   "cell_type": "code",
   "execution_count": 24,
   "id": "389ed792-5fa2-4697-b5b5-f6cbdd6da60b",
   "metadata": {},
   "outputs": [
    {
     "data": {
      "text/html": [
       "<div>\n",
       "<style scoped>\n",
       "    .dataframe tbody tr th:only-of-type {\n",
       "        vertical-align: middle;\n",
       "    }\n",
       "\n",
       "    .dataframe tbody tr th {\n",
       "        vertical-align: top;\n",
       "    }\n",
       "\n",
       "    .dataframe thead th {\n",
       "        text-align: right;\n",
       "    }\n",
       "</style>\n",
       "<table border=\"1\" class=\"dataframe\">\n",
       "  <thead>\n",
       "    <tr style=\"text-align: right;\">\n",
       "      <th></th>\n",
       "      <th>message</th>\n",
       "      <th>classification</th>\n",
       "      <th>FILE_NAME</th>\n",
       "    </tr>\n",
       "    <tr>\n",
       "      <th>DOC_ID</th>\n",
       "      <th></th>\n",
       "      <th></th>\n",
       "      <th></th>\n",
       "    </tr>\n",
       "  </thead>\n",
       "  <tbody>\n",
       "    <tr>\n",
       "      <th>0</th>\n",
       "      <td>Dear Homeowner,\\n\\n \\n\\nInterest Rates are at ...</td>\n",
       "      <td>0</td>\n",
       "      <td>00249.5f45607c1bffe89f60ba1ec9f878039a</td>\n",
       "    </tr>\n",
       "    <tr>\n",
       "      <th>1</th>\n",
       "      <td>ATTENTION: This is a MUST for ALL Computer Use...</td>\n",
       "      <td>0</td>\n",
       "      <td>00373.ebe8670ac56b04125c25100a36ab0510</td>\n",
       "    </tr>\n",
       "    <tr>\n",
       "      <th>2</th>\n",
       "      <td>This is a multi-part message in MIME format.\\n...</td>\n",
       "      <td>0</td>\n",
       "      <td>00214.1367039e50dc6b7adb0f2aa8aba83216</td>\n",
       "    </tr>\n",
       "    <tr>\n",
       "      <th>3</th>\n",
       "      <td>IMPORTANT INFORMATION:\\n\\n\\n\\nThe new domain n...</td>\n",
       "      <td>0</td>\n",
       "      <td>00210.050ffd105bd4e006771ee63cabc59978</td>\n",
       "    </tr>\n",
       "    <tr>\n",
       "      <th>4</th>\n",
       "      <td>This is the bottom line.  If you can GIVE AWAY...</td>\n",
       "      <td>0</td>\n",
       "      <td>00033.9babb58d9298daa2963d4f514193d7d6</td>\n",
       "    </tr>\n",
       "    <tr>\n",
       "      <th>...</th>\n",
       "      <td>...</td>\n",
       "      <td>...</td>\n",
       "      <td>...</td>\n",
       "    </tr>\n",
       "    <tr>\n",
       "      <th>5791</th>\n",
       "      <td>I'm one of the 30,000 but it's not working ver...</td>\n",
       "      <td>1</td>\n",
       "      <td>00609.dd49926ce94a1ea328cce9b62825bc97</td>\n",
       "    </tr>\n",
       "    <tr>\n",
       "      <th>5792</th>\n",
       "      <td>Damien Morton quoted:\\n\\n&gt;W3C approves HTML 4 ...</td>\n",
       "      <td>1</td>\n",
       "      <td>00957.e0b56b117f3ec5f85e432a9d2a47801f</td>\n",
       "    </tr>\n",
       "    <tr>\n",
       "      <th>5793</th>\n",
       "      <td>On Mon, 2002-07-22 at 06:50, che wrote:\\n\\n\\n\\...</td>\n",
       "      <td>1</td>\n",
       "      <td>01127.841233b48eceb74a825417d8d918abf8</td>\n",
       "    </tr>\n",
       "    <tr>\n",
       "      <th>5794</th>\n",
       "      <td>Once upon a time, Manfred wrote :\\n\\n\\n\\n&gt; I w...</td>\n",
       "      <td>1</td>\n",
       "      <td>01178.5c977dff972cd6eef64d4173b90307f0</td>\n",
       "    </tr>\n",
       "    <tr>\n",
       "      <th>5795</th>\n",
       "      <td>If you run Pick, and then use the \"New FTOC\" b...</td>\n",
       "      <td>1</td>\n",
       "      <td>00747.352d424267d36975a7b40b85ffd0885e</td>\n",
       "    </tr>\n",
       "  </tbody>\n",
       "</table>\n",
       "<p>5796 rows × 3 columns</p>\n",
       "</div>"
      ],
      "text/plain": [
       "                                                  message  classification  \\\n",
       "DOC_ID                                                                      \n",
       "0       Dear Homeowner,\\n\\n \\n\\nInterest Rates are at ...               0   \n",
       "1       ATTENTION: This is a MUST for ALL Computer Use...               0   \n",
       "2       This is a multi-part message in MIME format.\\n...               0   \n",
       "3       IMPORTANT INFORMATION:\\n\\n\\n\\nThe new domain n...               0   \n",
       "4       This is the bottom line.  If you can GIVE AWAY...               0   \n",
       "...                                                   ...             ...   \n",
       "5791    I'm one of the 30,000 but it's not working ver...               1   \n",
       "5792    Damien Morton quoted:\\n\\n>W3C approves HTML 4 ...               1   \n",
       "5793    On Mon, 2002-07-22 at 06:50, che wrote:\\n\\n\\n\\...               1   \n",
       "5794    Once upon a time, Manfred wrote :\\n\\n\\n\\n> I w...               1   \n",
       "5795    If you run Pick, and then use the \"New FTOC\" b...               1   \n",
       "\n",
       "                                     FILE_NAME  \n",
       "DOC_ID                                          \n",
       "0       00249.5f45607c1bffe89f60ba1ec9f878039a  \n",
       "1       00373.ebe8670ac56b04125c25100a36ab0510  \n",
       "2       00214.1367039e50dc6b7adb0f2aa8aba83216  \n",
       "3       00210.050ffd105bd4e006771ee63cabc59978  \n",
       "4       00033.9babb58d9298daa2963d4f514193d7d6  \n",
       "...                                        ...  \n",
       "5791    00609.dd49926ce94a1ea328cce9b62825bc97  \n",
       "5792    00957.e0b56b117f3ec5f85e432a9d2a47801f  \n",
       "5793    01127.841233b48eceb74a825417d8d918abf8  \n",
       "5794    01178.5c977dff972cd6eef64d4173b90307f0  \n",
       "5795    00747.352d424267d36975a7b40b85ffd0885e  \n",
       "\n",
       "[5796 rows x 3 columns]"
      ]
     },
     "execution_count": 24,
     "metadata": {},
     "output_type": "execute_result"
    }
   ],
   "source": [
    "data['FILE_NAME'] = data.index\n",
    "data.set_index('DOC_ID', inplace=True)\n",
    "data"
   ]
  },
  {
   "cell_type": "code",
   "execution_count": 25,
   "id": "a35fe150-7a2d-45b6-aa83-a255cec1abee",
   "metadata": {},
   "outputs": [],
   "source": [
    "data.to_json(DATA_JSON_FILE)"
   ]
  },
  {
   "cell_type": "code",
   "execution_count": 26,
   "id": "04a4e03b-187f-4a66-8f17-e3bae8eecb70",
   "metadata": {},
   "outputs": [
    {
     "data": {
      "text/plain": [
       "classification\n",
       "1    3900\n",
       "0    1896\n",
       "Name: count, dtype: int64"
      ]
     },
     "execution_count": 26,
     "metadata": {},
     "output_type": "execute_result"
    }
   ],
   "source": [
    "data.classification.value_counts()"
   ]
  },
  {
   "cell_type": "code",
   "execution_count": 27,
   "id": "b48ddc29-e36a-44b1-822a-6426d6afd186",
   "metadata": {},
   "outputs": [
    {
     "data": {
      "image/png": "[encoded data removed]",
      "text/plain": [
       "<Figure size 454x454 with 1 Axes>"
      ]
     },
     "metadata": {},
     "output_type": "display_data"
    }
   ],
   "source": [
    "spam_email_count = data.classification.value_counts()[0]\n",
    "ham_email_count = data.classification.value_counts()[1]\n",
    "\n",
    "category_name = ['spam', 'legit']\n",
    "sizes = [spam_email_count, ham_email_count]\n",
    "custome_colors = ['#ff7675', '#74b9ff']\n",
    "\n",
    "plt.figure(figsize=[2, 2], dpi=227)\n",
    "\n",
    "plt.pie(sizes, labels=category_name, textprops={'fontsize': 6}, startangle=90, explode=[0, 0.1] , autopct='%1.3f%%' , colors= custome_colors )\n",
    "plt.show()\n",
    "\n"
   ]
  },
  {
   "cell_type": "code",
   "execution_count": 28,
   "id": "a457e6e6-c7f1-43f7-a500-0cd983c1f4b9",
   "metadata": {},
   "outputs": [
    {
     "data": {
      "image/png": "[encoded data removed]",
      "text/plain": [
       "<Figure size 454x454 with 1 Axes>"
      ]
     },
     "metadata": {},
     "output_type": "display_data"
    }
   ],
   "source": [
    "spam_email_count = data.classification.value_counts()[0]\n",
    "ham_email_count = data.classification.value_counts()[1]\n",
    "\n",
    "category_name = ['spam', 'legit']\n",
    "sizes = [spam_email_count, ham_email_count]\n",
    "custome_colors = ['#ff7675', '#74b9ff']\n",
    "\n",
    "plt.figure(figsize=[2, 2], dpi=227)\n",
    "\n",
    "ofset = [0.05, 0.05, 0.05, 0.05]\n",
    "\n",
    "center_circle = plt.Circle((0, 0), radius=0.6, color='white' )\n",
    "\n",
    "\n",
    "plt.pie(sizes, labels=category_name, textprops={'fontsize': 6}, startangle=90 , autopct='%1.1f%%' , pctdistance=0.8, colors= custome_colors,  )\n",
    "\n",
    "\n",
    "plt.gca().add_artist(center_circle)\n",
    "\n",
    "plt.show()\n",
    "\n"
   ]
  },
  {
   "cell_type": "code",
   "execution_count": 29,
   "id": "8b2cef5b-b380-4737-bec2-9dfe82a58c7c",
   "metadata": {},
   "outputs": [
    {
     "name": "stderr",
     "output_type": "stream",
     "text": [
      "[nltk_data] Downloading package punkt to /Users/reza_96/nltk_data...\n",
      "[nltk_data]   Package punkt is already up-to-date!\n"
     ]
    },
    {
     "data": {
      "text/plain": [
       "True"
      ]
     },
     "execution_count": 29,
     "metadata": {},
     "output_type": "execute_result"
    }
   ],
   "source": [
    "nltk.download('punkt')"
   ]
  },
  {
   "cell_type": "code",
   "execution_count": 30,
   "id": "293b5696-4e14-4a69-8ccb-439b95feeaf4",
   "metadata": {},
   "outputs": [
    {
     "name": "stderr",
     "output_type": "stream",
     "text": [
      "[nltk_data] Downloading package stopwords to\n",
      "[nltk_data]     /Users/reza_96/nltk_data...\n",
      "[nltk_data]   Package stopwords is already up-to-date!\n"
     ]
    },
    {
     "data": {
      "text/plain": [
       "True"
      ]
     },
     "execution_count": 30,
     "metadata": {},
     "output_type": "execute_result"
    }
   ],
   "source": [
    "nltk.download('stopwords')"
   ]
  },
  {
   "cell_type": "code",
   "execution_count": 31,
   "id": "b2b87a19-0e1d-405e-9f1b-a93a346a8e41",
   "metadata": {},
   "outputs": [
    {
     "data": {
      "text/plain": [
       "set"
      ]
     },
     "execution_count": 31,
     "metadata": {},
     "output_type": "execute_result"
    }
   ],
   "source": [
    "stop_words = set(stopwords.words('english'))\n",
    "type(stop_words)"
   ]
  },
  {
   "cell_type": "code",
   "execution_count": 32,
   "id": "0f96f8f6-6cc0-4edc-8d3c-b5cbc5ab4d11",
   "metadata": {},
   "outputs": [
    {
     "name": "stdout",
     "output_type": "stream",
     "text": [
      "found\n"
     ]
    }
   ],
   "source": [
    "if 'you' in stop_words: print('found') "
   ]
  },
  {
   "cell_type": "code",
   "execution_count": 33,
   "id": "f51d8348-6474-4c28-9e6f-6fbdeff845ff",
   "metadata": {},
   "outputs": [
    {
     "name": "stdout",
     "output_type": "stream",
     "text": [
      "Nope\n"
     ]
    }
   ],
   "source": [
    "if 'hello' not in stop_words : print('Nope')"
   ]
  },
  {
   "cell_type": "code",
   "execution_count": 34,
   "id": "ee9a2af8-5346-4ea8-9579-76f68035257a",
   "metadata": {},
   "outputs": [
    {
     "data": {
      "text/plain": [
       "['work', 'play', 'make', 'jack', 'dull', 'boy', 'expect', 'spainsh', 'inqusit']"
      ]
     },
     "execution_count": 34,
     "metadata": {},
     "output_type": "execute_result"
    }
   ],
   "source": [
    "msg = 'All work and no play makes Jack a dull boy. To be or not to be. ??? \\\n",
    "No expects the Spainsh Inqusition?'\n",
    "\n",
    "words = word_tokenize(msg.lower())\n",
    "\n",
    "stemmer = PorterStemmer()\n",
    "\n",
    "fitered_word = []\n",
    "for word in words:\n",
    "    if word not in stop_words and word.isalpha() :\n",
    "        stemed_word = stemmer.stem(word)\n",
    "        fitered_word.append(stemed_word)\n",
    "\n",
    "\n",
    "fitered_word"
   ]
  },
  {
   "cell_type": "code",
   "execution_count": 44,
   "id": "623b1660-e785-4789-81cc-b01d9e7e828c",
   "metadata": {},
   "outputs": [
    {
     "name": "stdout",
     "output_type": "stream",
     "text": [
      "<bound method Tag.prettify of This is a multi-part message in MIME format.\n",
      "\n",
      "\n",
      "\n",
      "------=_NextPart_000_1CDC19_01C25366.4B57F3A0\n",
      "\n",
      "Content-Type: text/plain;\n",
      "\n",
      "\tcharset=\"Windows-1252\"\n",
      "\n",
      "Content-Transfer-Encoding: quoted-printable\n",
      "\n",
      "\n",
      "\n",
      " We dare you...\n",
      "\n",
      " Try to find a better annuity!\n",
      "\n",
      "=20\n",
      "\n",
      "  - 5.40% Guaranteed for 6 Years=0A=\n",
      "\n",
      "- 6 Year Surrender Charge=0A=\n",
      "\n",
      "- 5% Agent\n",
      "\n",
      "Commission up to age 80=09\n",
      "\n",
      "Call today for more information!\n",
      "\n",
      " 800-888-7641 ext. 103\n",
      "\n",
      "- or -\n",
      "\n",
      "\n",
      "\n",
      "Please fill out the form below for more information\t=20\n",
      "\n",
      "Name:\t \t  =09\n",
      "\n",
      "E-mail:\t \t=20\n",
      "\n",
      "Phone:\t \t=20\n",
      "\n",
      "City:\t \t State:\t \t=20\n",
      "\n",
      " \t    =09\n",
      "\n",
      "=20\n",
      "\n",
      " PMG Financial Services\n",
      "\n",
      "*5.40% for deposits of $100,000 and up, 5.25% interest for deposits\n",
      "\n",
      "totalling $25,000-$99,999.\t=20\n",
      "\n",
      "We don't want anyone to receive our mailings who does not wish to\n",
      "\n",
      "receive them. This is a professional communication sent to insurance\n",
      "\n",
      "professionals. To be removed from this mailing list, DO NOT REPLY to\n",
      "\n",
      "this message. Instead, go here: http://www.insuranceiq.com/optout\n",
      "\n",
      "<http: optout=\"\" www.insuranceiq.com=\"\"></http:>=20\n",
      "\n",
      "\n",
      "\n",
      "Legal Notice <http: legal.htm=\"\" www.insiq.com=\"\">=20\n",
      "\n",
      "\n",
      "\n",
      "------=_NextPart_000_1CDC19_01C25366.4B57F3A0\n",
      "\n",
      "Content-Type: text/html;\n",
      "\n",
      "\tcharset=\"iso-8859-1\"\n",
      "\n",
      "Content-Transfer-Encoding: quoted-printable\n",
      "\n",
      "\n",
      "\n",
      "<html>\n",
      "<head>\n",
      "<title>We Dare You to Find a Better Annuity</title>\n",
      "<meta ==\"\" charset=\"utf-8\" content='3D\"text/html;' http-equiv='3D\"Content-Type\"'/>\n",
      "</head>\n",
      "<body bgcolor='3D\"#666666\"' text='3D\"#000000\"'>\n",
      "<font face='3D\"Arial,' helvetica,=\"\" sans-serif\"=\"\">=20\n",
      "\n",
      "<table ==\"\" align='3D\"center\"' bgcolor='3D\"#FFFFFF\"' border='3D\"1\"' bordercolor='3D\"#000000\"' cellpadding='3D\"0\"' cellspacing='3D\"0\"' width='3D\"550\"'>\n",
      "<tr>=20\n",
      "\n",
      "    <td>\n",
      "<img ==\"\" alt='3D\"We' dare=\"\" height='3D\"55\"' src='3D\"http://iiq.us/images/pmg/20020822-101.gif\"' width='3D\"550\"' you...\"=\"\"/><br/>\n",
      "<img ==\"\" a=\"\" alt='3D\"Try' annuity!\"=\"\" better=\"\" find=\"\" height='3D\"47\"' src='3D\"http://iiq.us/images/pmg/20020822-102.jpg\"' to=\"\" width='3D\"550\"'/><br/>\n",
      "<img ==\"\" height='3D\"248\"' src='3D\"http://iiq.us/images/pmg/20020822-103.jpg\"' width='3D\"550\"'/>=20\n",
      "\n",
      "      <table ==\"\" bgcolor='3D\"#ffffff\"' border='3D\"0\"' cellpadding='3D\"2\"' cellspacing='3D\"2\"' width='3D\"100%\"'>\n",
      "<tr>=20\n",
      "\n",
      "          <td><img ==\"\" height='3D\"142\"' src='3D\"http://iiq.us/images/pmg/20020822-201.gif\"' width='3D\"32\"'/><img 5%=\"\" 5.40%=\"Guaranteed\" 6=\"\" 80\"=\"\" ==\"\" age=\"\" agent=\"Commission\" alt='3D\"-' charge&#10;-=\"\" for=\"\" height='3D\"142\"' src='3D\"http://iiq.us/images/pmg/20020822-202.gif\"' surrender=\"\" to=\"\" up=\"\" width='3D\"508\"' year=\"\" years&#10;-=\"\"/></td>\n",
      "</tr>\n",
      "<tr>=20\n",
      "\n",
      "          <td align='3D\"center\"'>\n",
      "<b><font size='3D\"2\"'>Call today for more information!<br/>\n",
      "<img 103\"=\"\" ==\"\" alt='3D\"800-888-7641' ext.=\"\" height='3D\"115\"' src='3D\"http://iiq.us/images/pmg/20020822-3.gif\"' width='3D\"535\"'/><br/>\n",
      "\n",
      "            - or -</font></b><br/>\n",
      "<table ==\"\" border='3D\"1\"' bordercolor='3D\"#000000\"' cellpadding='3D\"0\"' cellspacing='3D\"0\"' width='3D\"95%\"'>\n",
      "<tr>=20\n",
      "\n",
      "                <form ==\"\" action='3D\"http://65.217.159.103/response/response.asp\"' method='3D\"post\"'>\n",
      "<td>=20\n",
      "\n",
      "                    <table ==\"\" align='3D\"center\"' background='3D\"http://iiq.us/images/pmg/20020822-5.gif\"' bgcolor='3D\"#ffffff\"' border='3D\"0\"' cellpadding='3D\"2\"' cellspacing='3D\"0\"' width='3D\"100%\"'>\n",
      "<tr>=20\n",
      "\n",
      "                        <td align='3D\"center\"' colspan='3D\"5\"'><b><font ==\"\" size='3D\"2\"'>Please fill out the form below for more =\n",
      "\n",
      "information</font></b></td>\n",
      "</tr>\n",
      "<tr>=20\n",
      "\n",
      "                        <td align='3D\"right\"' width='3D\"15%\"'><b><font ==\"\" size='3D\"2\"'>Name:</font></b></td>\n",
      "<td colspan='3D\"3\"'><input ==\"\" name='3D\"contactname\"' size='3D\"50\"' type='3D\"text\"'/></td>\n",
      "<td ==\"\" align='3D\"center\"' rowspan='3D\"5\"' valign='3D\"middle\"'><img ==\"\" height='3D\"50\"' src='3D\"http://iiq.us/images/q3.gif\"' width='3D\"43\"'/></td>\n",
      "</tr>\n",
      "<tr>=20\n",
      "\n",
      "                        <td align='3D\"right\"' width='3D\"15%\"'><b><font ==\"\" size='3D\"2\"'>E-mail:</font></b></td>\n",
      "<td colspan='3D\"3\"'><input ==\"\" name='3D\"email\"' size='3D\"50\"' type='3D\"text\"'/></td>\n",
      "</tr>\n",
      "<tr>=20\n",
      "\n",
      "                        <td align='3D\"right\"' width='3D\"15%\"'><b><font ==\"\" size='3D\"2\"'>Phone:</font></b></td>\n",
      "<td colspan='3D\"3\"'><input ==\"\" name='3D\"phone\"' size='3D\"50\"' type='3D\"text\"'/></td>\n",
      "</tr>\n",
      "<tr>=20\n",
      "\n",
      "                        <td align='3D\"right\"' width='3D\"15%\"'><b><font ==\"\" size='3D\"2\"'>City:</font></b></td>\n",
      "<td width='3D\"30%\"'><input ==\"\" name='3D\"city\"' size='3D\"20\"' type='3D\"text\"'/></td>\n",
      "<td align='3D\"right\"' width='3D\"15%\"'><b><font ==\"\" size='3D\"2\"'>State:</font></b></td>\n",
      "<td width='3D\"20%\"'><input ==\"\" name='3D\"state\"' size='3D\"2\"' type='3D\"text\"'/></td>\n",
      "</tr>\n",
      "<tr>=20\n",
      "\n",
      "                        <td align='3D\"right\"' width='3D\"15%\"'> </td>\n",
      "<td colspan=\"3D'3'\" width='3D\"30%\"'>=20\n",
      "\n",
      "                          <input ==\"\" name='3D\"btnsubmit\"' type='3D\"submit\"' value='3D\"Submit\"'/>\n",
      "<input ==\"\" name='3D\"hdnRecipientTxt\"' type='3D\"hidden\"' value='3D\"rhock@pmgsecurities.com\"'/>\n",
      "<input ==\"\" ad=\"\" dare=\"\" inquiry\"=\"\" name='3D\"hdnSubjectTxt\"' type='3D\"hidden\"' value='3D\"PMG'/>\n",
      "</td>\n",
      "</tr>\n",
      "</table>\n",
      "</td>\n",
      "<input name=\"3D'SentTo'\" type=\"3D'hidden'\" value=\"3D'304704'\"/>\n",
      "</form>\n",
      "</tr>\n",
      "</table>\n",
      "<b><font size='3D\"2\"'><img ==\"\" alt='3D\"PMG' financial='Services\"' height='3D\"142\"' src='3D\"http://iiq.us/images/pmg/20020822-4.gif\"' width='3D\"416\"'/>=20\n",
      "\n",
      "            </font></b></td>\n",
      "</tr>\n",
      "<tr>=20\n",
      "\n",
      "          <td><font size='3D\"1\"'>*5.40% for deposits of $100,000 and up, =\n",
      "\n",
      "5.25% interest for deposits totalling $25,000-$99,999.</font></td>\n",
      "</tr>\n",
      "</table>\n",
      "</td>\n",
      "</tr>\n",
      "<tr>=20\n",
      "\n",
      "    <td align='3D\"center\"' bgcolor='3D\"#cccccc\"' width='3D\"100%\"'>\n",
      "<p><font face='3D\"Arial,' helvetica,=\"\" sans-serif\"=\"\" size='3D\"1\"'>We=20\n",
      "\n",
      "\t\t\tdon't want anyone to receive our mailings who does not=20\n",
      "\n",
      "\t\t\twish to receive them. This is a professional communication=20\n",
      "\n",
      "\t\t\tsent to insurance professionals. To be removed from this mailing=20\n",
      "\n",
      "\t\t\tlist, <b>DO NOT REPLY</b> to this message. Instead, go here: <a ==\"\" href='3D\"http://www.insuranceiq.com/optout/\"'>=20\n",
      "\n",
      "\t\t\thttp://www.insuranceiq.com/optout</a></font></p>\n",
      "</td>\n",
      "</tr>\n",
      "</table>\n",
      "<center>\n",
      "<a href='3D\"http://www.insiq.com/legal.htm\"'><font ==\"\" face='3D\"Arial,' helvetica,=\"\" sans-serif\"=\"\" size='3D\"1\"'>Legal Notice </font></a>=20\n",
      "\n",
      "</center>\n",
      "</font>\n",
      "</body>\n",
      "</html>\n",
      "\n",
      "\n",
      "\n",
      "------=_NextPart_000_1CDC19_01C25366.4B57F3A0--\n",
      "\n",
      "\n",
      "</http:>>\n"
     ]
    }
   ],
   "source": [
    "soup = BeautifulSoup(data.at[2, 'message'], 'html.parser')\n",
    "print(soup.prettify)"
   ]
  },
  {
   "cell_type": "code",
   "execution_count": 45,
   "id": "b080d66d-8811-484f-956b-662612152ab8",
   "metadata": {},
   "outputs": [
    {
     "data": {
      "text/plain": [
       "'This is a multi-part message in MIME format.\\n\\n\\n\\n------=_NextPart_000_1CDC19_01C25366.4B57F3A0\\n\\nContent-Type: text/plain;\\n\\n\\tcharset=\"Windows-1252\"\\n\\nContent-Transfer-Encoding: quoted-printable\\n\\n\\n\\n We dare you...\\n\\n Try to find a better annuity!\\n\\n=20\\n\\n  - 5.40% Guaranteed for 6 Years=0A=\\n\\n- 6 Year Surrender Charge=0A=\\n\\n- 5% Agent\\n\\nCommission up to age 80=09\\n\\nCall today for more information!\\n\\n 800-888-7641 ext. 103\\n\\n- or -\\n\\n\\n\\nPlease fill out the form below for more information\\t=20\\n\\nName:\\t \\t  =09\\n\\nE-mail:\\t \\t=20\\n\\nPhone:\\t \\t=20\\n\\nCity:\\t \\t State:\\t \\t=20\\n\\n \\t    =09\\n\\n=20\\n\\n PMG Financial Services\\n\\n*5.40% for deposits of $100,000 and up, 5.25% interest for deposits\\n\\ntotalling $25,000-$99,999.\\t=20\\n\\nWe don\\'t want anyone to receive our mailings who does not wish to\\n\\nreceive them. This is a professional communication sent to insurance\\n\\nprofessionals. To be removed from this mailing list, DO NOT REPLY to\\n\\nthis message. Instead, go here: http://www.insuranceiq.com/optout\\n\\n=20\\n\\n\\n\\nLegal Notice =20\\n\\n\\n\\n------=_NextPart_000_1CDC19_01C25366.4B57F3A0\\n\\nContent-Type: text/html;\\n\\n\\tcharset=\"iso-8859-1\"\\n\\nContent-Transfer-Encoding: quoted-printable\\n\\n\\n\\n\\n\\nWe Dare You to Find a Better Annuity\\n\\n\\n\\n=20\\n\\n\\n=20\\n\\n    \\n\\n\\n=20\\n\\n      \\n=20\\n\\n          \\n\\n=20\\n\\n          \\nCall today for more information!\\n\\n\\n            - or -\\n\\n=20\\n\\n                \\n=20\\n\\n                    \\n=20\\n\\n                        Please fill out the form below for more =\\n\\ninformation\\n\\n=20\\n\\n                        Name:\\n\\n\\n\\n=20\\n\\n                        E-mail:\\n\\n\\n=20\\n\\n                        Phone:\\n\\n\\n=20\\n\\n                        City:\\n\\nState:\\n\\n\\n=20\\n\\n                        \\xa0\\n=20\\n\\n                          \\n\\n\\n\\n\\n\\n\\n\\n\\n\\n\\n=20\\n\\n            \\n\\n=20\\n\\n          *5.40% for deposits of $100,000 and up, =\\n\\n5.25% interest for deposits totalling $25,000-$99,999.\\n\\n\\n\\n\\n=20\\n\\n    \\nWe=20\\n\\n\\t\\t\\tdon\\'t want anyone to receive our mailings who does not=20\\n\\n\\t\\t\\twish to receive them. This is a professional communication=20\\n\\n\\t\\t\\tsent to insurance professionals. To be removed from this mailing=20\\n\\n\\t\\t\\tlist, DO NOT REPLY to this message. Instead, go here: =20\\n\\n\\t\\t\\thttp://www.insuranceiq.com/optout\\n\\n\\n\\n\\nLegal Notice =20\\n\\n\\n\\n\\n\\n\\n\\n\\n------=_NextPart_000_1CDC19_01C25366.4B57F3A0--\\n\\n\\n'"
      ]
     },
     "execution_count": 45,
     "metadata": {},
     "output_type": "execute_result"
    }
   ],
   "source": [
    "soup.get_text()"
   ]
  },
  {
   "cell_type": "code",
   "execution_count": 50,
   "id": "d575e9fb-5cf2-48a6-8d38-c1eaa986c834",
   "metadata": {},
   "outputs": [],
   "source": [
    "def clean_message(message, stemmer=PorterStemmer(), stop_words=set(stopwords.words('english'))): \n",
    "    filtered_words = []\n",
    "\n",
    "    words = word_tokenize( message.lower())\n",
    "\n",
    "    for word in words:\n",
    "        if word not in stop_words and word.isalpha():\n",
    "            filtered_words.append(stemmer.stem(word))\n",
    "    return filtered_words;"
   ]
  },
  {
   "cell_type": "code",
   "execution_count": 51,
   "id": "8d11dd33-b608-40bb-ac92-5dce32cacfe2",
   "metadata": {},
   "outputs": [
    {
     "ename": "NameError",
     "evalue": "name 'email_body' is not defined",
     "output_type": "error",
     "traceback": [
      "\u001b[0;31m---------------------------------------------------------------------------\u001b[0m",
      "\u001b[0;31mNameError\u001b[0m                                 Traceback (most recent call last)",
      "Cell \u001b[0;32mIn[51], line 1\u001b[0m\n\u001b[0;32m----> 1\u001b[0m clean_message(email_body)\n",
      "\u001b[0;31mNameError\u001b[0m: name 'email_body' is not defined"
     ]
    }
   ],
   "source": [
    "clean_message(email_body)"
   ]
  },
  {
   "cell_type": "markdown",
   "id": "df15a6cd-77a7-443e-bc36-0e861b2fd7cd",
   "metadata": {},
   "source": [
    "## Remove HTML TAG"
   ]
  }
 ],
 "metadata": {
  "kernelspec": {
   "display_name": "Python 3 (ipykernel)",
   "language": "python",
   "name": "python3"
  },
  "language_info": {
   "codemirror_mode": {
    "name": "ipython",
    "version": 3
   },
   "file_extension": ".py",
   "mimetype": "text/x-python",
   "name": "python",
   "nbconvert_exporter": "python",
   "pygments_lexer": "ipython3",
   "version": "3.11.7"
  }
 },
 "nbformat": 4,
 "nbformat_minor": 5
}
